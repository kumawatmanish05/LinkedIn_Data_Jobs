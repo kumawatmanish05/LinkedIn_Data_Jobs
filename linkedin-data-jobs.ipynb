{
 "cells": [
  {
   "cell_type": "markdown",
   "id": "345e18a5",
   "metadata": {
    "papermill": {
     "duration": 0.006413,
     "end_time": "2024-11-17T04:07:17.411970",
     "exception": false,
     "start_time": "2024-11-17T04:07:17.405557",
     "status": "completed"
    },
    "tags": []
   },
   "source": [
    " # Importing Libraries"
   ]
  },
  {
   "cell_type": "code",
   "execution_count": 1,
   "id": "c3e5bed3",
   "metadata": {
    "_cell_guid": "b1076dfc-b9ad-4769-8c92-a6c4dae69d19",
    "_uuid": "8f2839f25d086af736a60e9eeb907d3b93b6e0e5",
    "execution": {
     "iopub.execute_input": "2024-11-17T04:07:17.425583Z",
     "iopub.status.busy": "2024-11-17T04:07:17.425113Z",
     "iopub.status.idle": "2024-11-17T04:07:18.509898Z",
     "shell.execute_reply": "2024-11-17T04:07:18.508361Z"
    },
    "papermill": {
     "duration": 1.09479,
     "end_time": "2024-11-17T04:07:18.512635",
     "exception": false,
     "start_time": "2024-11-17T04:07:17.417845",
     "status": "completed"
    },
    "tags": []
   },
   "outputs": [
    {
     "name": "stdout",
     "output_type": "stream",
     "text": [
      "/kaggle/input/data-scientist-linkedin-job-postings/postings.csv\n"
     ]
    }
   ],
   "source": [
    "# This Python 3 environment comes with many helpful analytics libraries installed\n",
    "# It is defined by the kaggle/python Docker image: https://github.com/kaggle/docker-python\n",
    "# For example, here's several helpful packages to load\n",
    "\n",
    "import numpy as np # linear algebra\n",
    "import pandas as pd # data processing, CSV file I/O (e.g. pd.read_csv)\n",
    "\n",
    "# Input data files are available in the read-only \"../input/\" directory\n",
    "# For example, running this (by clicking run or pressing Shift+Enter) will list all files under the input directory\n",
    "\n",
    "import os\n",
    "for dirname, _, filenames in os.walk('/kaggle/input'):\n",
    "    for filename in filenames:\n",
    "        print(os.path.join(dirname, filename))\n",
    "\n",
    "# You can write up to 20GB to the current directory (/kaggle/working/) that gets preserved as output when you create a version using \"Save & Run All\" \n",
    "# You can also write temporary files to /kaggle/temp/, but they won't be saved outside of the current session"
   ]
  },
  {
   "cell_type": "code",
   "execution_count": 2,
   "id": "ae7a3c8d",
   "metadata": {
    "execution": {
     "iopub.execute_input": "2024-11-17T04:07:18.527439Z",
     "iopub.status.busy": "2024-11-17T04:07:18.526276Z",
     "iopub.status.idle": "2024-11-17T04:07:20.561704Z",
     "shell.execute_reply": "2024-11-17T04:07:20.560391Z"
    },
    "papermill": {
     "duration": 2.04583,
     "end_time": "2024-11-17T04:07:20.564705",
     "exception": false,
     "start_time": "2024-11-17T04:07:18.518875",
     "status": "completed"
    },
    "tags": []
   },
   "outputs": [],
   "source": [
    "import numpy as np\n",
    "import pandas as pd\n",
    "import matplotlib.pyplot as plt\n",
    "import seaborn as sns\n",
    "\n"
   ]
  },
  {
   "cell_type": "code",
   "execution_count": 3,
   "id": "ed4b86a5",
   "metadata": {
    "execution": {
     "iopub.execute_input": "2024-11-17T04:07:20.578890Z",
     "iopub.status.busy": "2024-11-17T04:07:20.578285Z",
     "iopub.status.idle": "2024-11-17T04:07:21.228145Z",
     "shell.execute_reply": "2024-11-17T04:07:21.226309Z"
    },
    "papermill": {
     "duration": 0.660843,
     "end_time": "2024-11-17T04:07:21.231561",
     "exception": false,
     "start_time": "2024-11-17T04:07:20.570718",
     "status": "completed"
    },
    "tags": []
   },
   "outputs": [],
   "source": [
    "data = pd.read_csv('/kaggle/input/data-scientist-linkedin-job-postings/postings.csv', parse_dates=['first_seen'])\n",
    "df = data.copy()"
   ]
  },
  {
   "cell_type": "code",
   "execution_count": 4,
   "id": "9237fa9b",
   "metadata": {
    "execution": {
     "iopub.execute_input": "2024-11-17T04:07:21.245829Z",
     "iopub.status.busy": "2024-11-17T04:07:21.245389Z",
     "iopub.status.idle": "2024-11-17T04:07:21.274695Z",
     "shell.execute_reply": "2024-11-17T04:07:21.273487Z"
    },
    "papermill": {
     "duration": 0.039578,
     "end_time": "2024-11-17T04:07:21.277323",
     "exception": false,
     "start_time": "2024-11-17T04:07:21.237745",
     "status": "completed"
    },
    "tags": []
   },
   "outputs": [
    {
     "data": {
      "text/html": [
       "<div>\n",
       "<style scoped>\n",
       "    .dataframe tbody tr th:only-of-type {\n",
       "        vertical-align: middle;\n",
       "    }\n",
       "\n",
       "    .dataframe tbody tr th {\n",
       "        vertical-align: top;\n",
       "    }\n",
       "\n",
       "    .dataframe thead th {\n",
       "        text-align: right;\n",
       "    }\n",
       "</style>\n",
       "<table border=\"1\" class=\"dataframe\">\n",
       "  <thead>\n",
       "    <tr style=\"text-align: right;\">\n",
       "      <th></th>\n",
       "      <th>job_title</th>\n",
       "      <th>company</th>\n",
       "      <th>job_location</th>\n",
       "      <th>job_link</th>\n",
       "      <th>first_seen</th>\n",
       "      <th>search_city</th>\n",
       "      <th>search_country</th>\n",
       "      <th>job level</th>\n",
       "      <th>job_type</th>\n",
       "      <th>job_summary</th>\n",
       "      <th>job_skills</th>\n",
       "    </tr>\n",
       "  </thead>\n",
       "  <tbody>\n",
       "    <tr>\n",
       "      <th>1889</th>\n",
       "      <td>Senior Data Scientist</td>\n",
       "      <td>Axion Ray</td>\n",
       "      <td>New York, NY</td>\n",
       "      <td>https://www.linkedin.com/jobs/view/senior-data...</td>\n",
       "      <td>2023-12-20</td>\n",
       "      <td>Eastchester</td>\n",
       "      <td>United States</td>\n",
       "      <td>Mid senior</td>\n",
       "      <td>Hybrid</td>\n",
       "      <td>Axion Ray’s mission is to improve the quality ...</td>\n",
       "      <td>Data Pipelines, Data Exploration, Proof of Con...</td>\n",
       "    </tr>\n",
       "    <tr>\n",
       "      <th>3800</th>\n",
       "      <td>Data Engineer - Scala(U.S. remote)</td>\n",
       "      <td>Railroad19</td>\n",
       "      <td>Tallahassee, FL</td>\n",
       "      <td>https://www.linkedin.com/jobs/view/data-engine...</td>\n",
       "      <td>2023-12-20</td>\n",
       "      <td>Tallahassee</td>\n",
       "      <td>United States</td>\n",
       "      <td>Mid senior</td>\n",
       "      <td>Remote</td>\n",
       "      <td>Railroad19, Inc.\\nis hiring\\nremote\\nSenior Da...</td>\n",
       "      <td>Scala 2.12 +, Clean and maintainable code, Res...</td>\n",
       "    </tr>\n",
       "    <tr>\n",
       "      <th>4006</th>\n",
       "      <td>Data Engineer</td>\n",
       "      <td>Kforce Inc</td>\n",
       "      <td>Atlanta, GA</td>\n",
       "      <td>https://www.linkedin.com/jobs/view/data-engine...</td>\n",
       "      <td>2023-12-20</td>\n",
       "      <td>Atlanta</td>\n",
       "      <td>United States</td>\n",
       "      <td>Associate</td>\n",
       "      <td>Onsite</td>\n",
       "      <td>Responsibilities\\nKforce has a client that is ...</td>\n",
       "      <td>Data Engineering, Data Warehousing, Data Lakes...</td>\n",
       "    </tr>\n",
       "    <tr>\n",
       "      <th>3609</th>\n",
       "      <td>Data Engineer - Scala(U.S. remote)</td>\n",
       "      <td>Railroad19</td>\n",
       "      <td>Colorado Springs, CO</td>\n",
       "      <td>https://www.linkedin.com/jobs/view/data-engine...</td>\n",
       "      <td>2023-12-20</td>\n",
       "      <td>Cripple Creek</td>\n",
       "      <td>United States</td>\n",
       "      <td>Mid senior</td>\n",
       "      <td>Remote</td>\n",
       "      <td>Railroad19, Inc.\\nis hiring\\nremote\\nSenior Da...</td>\n",
       "      <td>Scala, Spark, AWS, EMR, S3, Relational databas...</td>\n",
       "    </tr>\n",
       "    <tr>\n",
       "      <th>2920</th>\n",
       "      <td>Senior Software Engineer, Data Science</td>\n",
       "      <td>Motional</td>\n",
       "      <td>Pittsburgh, PA</td>\n",
       "      <td>https://www.linkedin.com/jobs/view/senior-soft...</td>\n",
       "      <td>2023-12-20</td>\n",
       "      <td>Monroeville</td>\n",
       "      <td>United States</td>\n",
       "      <td>Mid senior</td>\n",
       "      <td>Onsite</td>\n",
       "      <td>Mission Summary:\\nThe Metrics Engine team over...</td>\n",
       "      <td>Python, Statistical Analysis, Statistics, Math...</td>\n",
       "    </tr>\n",
       "  </tbody>\n",
       "</table>\n",
       "</div>"
      ],
      "text/plain": [
       "                                   job_title     company  \\\n",
       "1889                   Senior Data Scientist   Axion Ray   \n",
       "3800      Data Engineer - Scala(U.S. remote)  Railroad19   \n",
       "4006                           Data Engineer  Kforce Inc   \n",
       "3609      Data Engineer - Scala(U.S. remote)  Railroad19   \n",
       "2920  Senior Software Engineer, Data Science    Motional   \n",
       "\n",
       "              job_location                                           job_link  \\\n",
       "1889          New York, NY  https://www.linkedin.com/jobs/view/senior-data...   \n",
       "3800       Tallahassee, FL  https://www.linkedin.com/jobs/view/data-engine...   \n",
       "4006           Atlanta, GA  https://www.linkedin.com/jobs/view/data-engine...   \n",
       "3609  Colorado Springs, CO  https://www.linkedin.com/jobs/view/data-engine...   \n",
       "2920        Pittsburgh, PA  https://www.linkedin.com/jobs/view/senior-soft...   \n",
       "\n",
       "     first_seen    search_city search_country   job level job_type  \\\n",
       "1889 2023-12-20    Eastchester  United States  Mid senior   Hybrid   \n",
       "3800 2023-12-20    Tallahassee  United States  Mid senior   Remote   \n",
       "4006 2023-12-20        Atlanta  United States   Associate   Onsite   \n",
       "3609 2023-12-20  Cripple Creek  United States  Mid senior   Remote   \n",
       "2920 2023-12-20    Monroeville  United States  Mid senior   Onsite   \n",
       "\n",
       "                                            job_summary  \\\n",
       "1889  Axion Ray’s mission is to improve the quality ...   \n",
       "3800  Railroad19, Inc.\\nis hiring\\nremote\\nSenior Da...   \n",
       "4006  Responsibilities\\nKforce has a client that is ...   \n",
       "3609  Railroad19, Inc.\\nis hiring\\nremote\\nSenior Da...   \n",
       "2920  Mission Summary:\\nThe Metrics Engine team over...   \n",
       "\n",
       "                                             job_skills  \n",
       "1889  Data Pipelines, Data Exploration, Proof of Con...  \n",
       "3800  Scala 2.12 +, Clean and maintainable code, Res...  \n",
       "4006  Data Engineering, Data Warehousing, Data Lakes...  \n",
       "3609  Scala, Spark, AWS, EMR, S3, Relational databas...  \n",
       "2920  Python, Statistical Analysis, Statistics, Math...  "
      ]
     },
     "execution_count": 4,
     "metadata": {},
     "output_type": "execute_result"
    }
   ],
   "source": [
    "df.sample(5)"
   ]
  },
  {
   "cell_type": "markdown",
   "id": "3697be76",
   "metadata": {
    "papermill": {
     "duration": 0.006094,
     "end_time": "2024-11-17T04:07:21.289939",
     "exception": false,
     "start_time": "2024-11-17T04:07:21.283845",
     "status": "completed"
    },
    "tags": []
   },
   "source": [
    "**Removing the redundant Columns**"
   ]
  },
  {
   "cell_type": "code",
   "execution_count": 5,
   "id": "12bfc17f",
   "metadata": {
    "execution": {
     "iopub.execute_input": "2024-11-17T04:07:21.304790Z",
     "iopub.status.busy": "2024-11-17T04:07:21.304322Z",
     "iopub.status.idle": "2024-11-17T04:07:21.327504Z",
     "shell.execute_reply": "2024-11-17T04:07:21.326039Z"
    },
    "papermill": {
     "duration": 0.034033,
     "end_time": "2024-11-17T04:07:21.330393",
     "exception": false,
     "start_time": "2024-11-17T04:07:21.296360",
     "status": "completed"
    },
    "tags": []
   },
   "outputs": [
    {
     "data": {
      "text/html": [
       "<div>\n",
       "<style scoped>\n",
       "    .dataframe tbody tr th:only-of-type {\n",
       "        vertical-align: middle;\n",
       "    }\n",
       "\n",
       "    .dataframe tbody tr th {\n",
       "        vertical-align: top;\n",
       "    }\n",
       "\n",
       "    .dataframe thead th {\n",
       "        text-align: right;\n",
       "    }\n",
       "</style>\n",
       "<table border=\"1\" class=\"dataframe\">\n",
       "  <thead>\n",
       "    <tr style=\"text-align: right;\">\n",
       "      <th></th>\n",
       "      <th>job_title</th>\n",
       "      <th>company</th>\n",
       "      <th>job_location</th>\n",
       "      <th>first_seen</th>\n",
       "      <th>search_country</th>\n",
       "      <th>job level</th>\n",
       "      <th>job_type</th>\n",
       "      <th>job_summary</th>\n",
       "      <th>job_skills</th>\n",
       "    </tr>\n",
       "  </thead>\n",
       "  <tbody>\n",
       "    <tr>\n",
       "      <th>0</th>\n",
       "      <td>Technical Data Analyst</td>\n",
       "      <td>Jefferson Health Plans</td>\n",
       "      <td>Philadelphia, PA</td>\n",
       "      <td>2023-12-20</td>\n",
       "      <td>United States</td>\n",
       "      <td>Associate</td>\n",
       "      <td>Remote</td>\n",
       "      <td>Why Choose Jefferson Health Plans?\\nWe are an ...</td>\n",
       "      <td>KNIME, QlikView, SQL, MS Access, MS Excel, Log...</td>\n",
       "    </tr>\n",
       "    <tr>\n",
       "      <th>1</th>\n",
       "      <td>Data Center Engineer - Minneapolis</td>\n",
       "      <td>DeRisk Technologies</td>\n",
       "      <td>Minneapolis, MN</td>\n",
       "      <td>2023-12-20</td>\n",
       "      <td>United States</td>\n",
       "      <td>Associate</td>\n",
       "      <td>Onsite</td>\n",
       "      <td>Job Responsibilities:\\nDeployment / In-Scope C...</td>\n",
       "      <td>Server, Storage, Backup, Networking, Virtualiz...</td>\n",
       "    </tr>\n",
       "    <tr>\n",
       "      <th>2</th>\n",
       "      <td>Data Analyst</td>\n",
       "      <td>Avani Tech Solutions Private Limited</td>\n",
       "      <td>Minneapolis, MN</td>\n",
       "      <td>2023-12-20</td>\n",
       "      <td>United States</td>\n",
       "      <td>Associate</td>\n",
       "      <td>Onsite</td>\n",
       "      <td>Success Factor knowledge\\nSchedule : Monday th...</td>\n",
       "      <td>Data Management, HR Data Retention Controls, C...</td>\n",
       "    </tr>\n",
       "    <tr>\n",
       "      <th>3</th>\n",
       "      <td>Data Engineer II - NBC Sports Next</td>\n",
       "      <td>NBC Sports Next</td>\n",
       "      <td>Minneapolis, MN</td>\n",
       "      <td>2023-12-20</td>\n",
       "      <td>United States</td>\n",
       "      <td>Associate</td>\n",
       "      <td>Remote</td>\n",
       "      <td>Company Description\\nNBC Sports Next is where ...</td>\n",
       "      <td>Data Engineering, Data Warehousing, SQL, MySQL...</td>\n",
       "    </tr>\n",
       "    <tr>\n",
       "      <th>4</th>\n",
       "      <td>Data Analyst - Operational Assessment</td>\n",
       "      <td>National Grid Renewables</td>\n",
       "      <td>Bloomington, MN</td>\n",
       "      <td>2023-12-20</td>\n",
       "      <td>United States</td>\n",
       "      <td>Associate</td>\n",
       "      <td>Hybrid</td>\n",
       "      <td>National Grid Renewables is a leading North Am...</td>\n",
       "      <td>Data Analyst, Operational Assessment, Wind Ene...</td>\n",
       "    </tr>\n",
       "  </tbody>\n",
       "</table>\n",
       "</div>"
      ],
      "text/plain": [
       "                               job_title  \\\n",
       "0                 Technical Data Analyst   \n",
       "1     Data Center Engineer - Minneapolis   \n",
       "2                           Data Analyst   \n",
       "3     Data Engineer II - NBC Sports Next   \n",
       "4  Data Analyst - Operational Assessment   \n",
       "\n",
       "                                company      job_location first_seen  \\\n",
       "0                Jefferson Health Plans  Philadelphia, PA 2023-12-20   \n",
       "1                   DeRisk Technologies   Minneapolis, MN 2023-12-20   \n",
       "2  Avani Tech Solutions Private Limited   Minneapolis, MN 2023-12-20   \n",
       "3                       NBC Sports Next   Minneapolis, MN 2023-12-20   \n",
       "4              National Grid Renewables   Bloomington, MN 2023-12-20   \n",
       "\n",
       "  search_country  job level job_type  \\\n",
       "0  United States  Associate   Remote   \n",
       "1  United States  Associate   Onsite   \n",
       "2  United States  Associate   Onsite   \n",
       "3  United States  Associate   Remote   \n",
       "4  United States  Associate   Hybrid   \n",
       "\n",
       "                                         job_summary  \\\n",
       "0  Why Choose Jefferson Health Plans?\\nWe are an ...   \n",
       "1  Job Responsibilities:\\nDeployment / In-Scope C...   \n",
       "2  Success Factor knowledge\\nSchedule : Monday th...   \n",
       "3  Company Description\\nNBC Sports Next is where ...   \n",
       "4  National Grid Renewables is a leading North Am...   \n",
       "\n",
       "                                          job_skills  \n",
       "0  KNIME, QlikView, SQL, MS Access, MS Excel, Log...  \n",
       "1  Server, Storage, Backup, Networking, Virtualiz...  \n",
       "2  Data Management, HR Data Retention Controls, C...  \n",
       "3  Data Engineering, Data Warehousing, SQL, MySQL...  \n",
       "4  Data Analyst, Operational Assessment, Wind Ene...  "
      ]
     },
     "execution_count": 5,
     "metadata": {},
     "output_type": "execute_result"
    }
   ],
   "source": [
    "df.drop(columns = ['job_link' , 'search_city'], inplace = True)\n",
    "df.head()"
   ]
  },
  {
   "cell_type": "markdown",
   "id": "5af52cf1",
   "metadata": {
    "papermill": {
     "duration": 0.006352,
     "end_time": "2024-11-17T04:07:21.343557",
     "exception": false,
     "start_time": "2024-11-17T04:07:21.337205",
     "status": "completed"
    },
    "tags": []
   },
   "source": [
    "# Getting Basic info Of Data"
   ]
  },
  {
   "cell_type": "code",
   "execution_count": 6,
   "id": "4ba3bfb1",
   "metadata": {
    "execution": {
     "iopub.execute_input": "2024-11-17T04:07:21.359852Z",
     "iopub.status.busy": "2024-11-17T04:07:21.359397Z",
     "iopub.status.idle": "2024-11-17T04:07:21.366958Z",
     "shell.execute_reply": "2024-11-17T04:07:21.365783Z"
    },
    "papermill": {
     "duration": 0.018437,
     "end_time": "2024-11-17T04:07:21.369641",
     "exception": false,
     "start_time": "2024-11-17T04:07:21.351204",
     "status": "completed"
    },
    "tags": []
   },
   "outputs": [
    {
     "data": {
      "text/plain": [
       "(4342, 9)"
      ]
     },
     "execution_count": 6,
     "metadata": {},
     "output_type": "execute_result"
    }
   ],
   "source": [
    "df.shape"
   ]
  },
  {
   "cell_type": "code",
   "execution_count": 7,
   "id": "49f08092",
   "metadata": {
    "execution": {
     "iopub.execute_input": "2024-11-17T04:07:21.385906Z",
     "iopub.status.busy": "2024-11-17T04:07:21.385461Z",
     "iopub.status.idle": "2024-11-17T04:07:21.414273Z",
     "shell.execute_reply": "2024-11-17T04:07:21.412862Z"
    },
    "papermill": {
     "duration": 0.040334,
     "end_time": "2024-11-17T04:07:21.417189",
     "exception": false,
     "start_time": "2024-11-17T04:07:21.376855",
     "status": "completed"
    },
    "tags": []
   },
   "outputs": [
    {
     "name": "stdout",
     "output_type": "stream",
     "text": [
      "<class 'pandas.core.frame.DataFrame'>\n",
      "RangeIndex: 4342 entries, 0 to 4341\n",
      "Data columns (total 9 columns):\n",
      " #   Column          Non-Null Count  Dtype         \n",
      "---  ------          --------------  -----         \n",
      " 0   job_title       4342 non-null   object        \n",
      " 1   company         4342 non-null   object        \n",
      " 2   job_location    4342 non-null   object        \n",
      " 3   first_seen      4342 non-null   datetime64[ns]\n",
      " 4   search_country  4342 non-null   object        \n",
      " 5   job level       4342 non-null   object        \n",
      " 6   job_type        4342 non-null   object        \n",
      " 7   job_summary     4338 non-null   object        \n",
      " 8   job_skills      4336 non-null   object        \n",
      "dtypes: datetime64[ns](1), object(8)\n",
      "memory usage: 305.4+ KB\n"
     ]
    }
   ],
   "source": [
    "df.info()"
   ]
  },
  {
   "cell_type": "code",
   "execution_count": 8,
   "id": "5c6012e6",
   "metadata": {
    "execution": {
     "iopub.execute_input": "2024-11-17T04:07:21.434446Z",
     "iopub.status.busy": "2024-11-17T04:07:21.433047Z",
     "iopub.status.idle": "2024-11-17T04:07:21.449264Z",
     "shell.execute_reply": "2024-11-17T04:07:21.448019Z"
    },
    "papermill": {
     "duration": 0.027322,
     "end_time": "2024-11-17T04:07:21.451777",
     "exception": false,
     "start_time": "2024-11-17T04:07:21.424455",
     "status": "completed"
    },
    "tags": []
   },
   "outputs": [
    {
     "data": {
      "text/plain": [
       "job_title         0\n",
       "company           0\n",
       "job_location      0\n",
       "first_seen        0\n",
       "search_country    0\n",
       "job level         0\n",
       "job_type          0\n",
       "job_summary       4\n",
       "job_skills        6\n",
       "dtype: int64"
      ]
     },
     "execution_count": 8,
     "metadata": {},
     "output_type": "execute_result"
    }
   ],
   "source": [
    "df.isnull().sum()"
   ]
  },
  {
   "cell_type": "markdown",
   "id": "f3aa6ff9",
   "metadata": {
    "papermill": {
     "duration": 0.006903,
     "end_time": "2024-11-17T04:07:21.466059",
     "exception": false,
     "start_time": "2024-11-17T04:07:21.459156",
     "status": "completed"
    },
    "tags": []
   },
   "source": [
    "**Filling Missing values**"
   ]
  },
  {
   "cell_type": "code",
   "execution_count": 9,
   "id": "fcd40d13",
   "metadata": {
    "execution": {
     "iopub.execute_input": "2024-11-17T04:07:21.483656Z",
     "iopub.status.busy": "2024-11-17T04:07:21.482087Z",
     "iopub.status.idle": "2024-11-17T04:07:21.511632Z",
     "shell.execute_reply": "2024-11-17T04:07:21.510316Z"
    },
    "papermill": {
     "duration": 0.04131,
     "end_time": "2024-11-17T04:07:21.514611",
     "exception": false,
     "start_time": "2024-11-17T04:07:21.473301",
     "status": "completed"
    },
    "tags": []
   },
   "outputs": [
    {
     "name": "stdout",
     "output_type": "stream",
     "text": [
      "job_title         0\n",
      "company           0\n",
      "job_location      0\n",
      "first_seen        0\n",
      "search_country    0\n",
      "job level         0\n",
      "job_type          0\n",
      "job_summary       0\n",
      "job_skills        0\n",
      "dtype: int64\n"
     ]
    },
    {
     "name": "stderr",
     "output_type": "stream",
     "text": [
      "/tmp/ipykernel_17/307109041.py:1: FutureWarning: DataFrame.fillna with 'method' is deprecated and will raise in a future version. Use obj.ffill() or obj.bfill() instead.\n",
      "  df.fillna(method='ffill', inplace=True)\n"
     ]
    }
   ],
   "source": [
    "df.fillna(method='ffill', inplace=True)\n",
    "print(df.isnull().sum())\n"
   ]
  },
  {
   "cell_type": "markdown",
   "id": "2e97b010",
   "metadata": {
    "papermill": {
     "duration": 0.00714,
     "end_time": "2024-11-17T04:07:21.529354",
     "exception": false,
     "start_time": "2024-11-17T04:07:21.522214",
     "status": "completed"
    },
    "tags": []
   },
   "source": [
    "We have multiple skills listed out in the Job posting on LinkedIn for the Data Science domain.\r\n",
    "\r\n",
    "We will be getting top most skills required and plot a graph for the same."
   ]
  },
  {
   "cell_type": "code",
   "execution_count": 10,
   "id": "f00b6c32",
   "metadata": {
    "execution": {
     "iopub.execute_input": "2024-11-17T04:07:21.548661Z",
     "iopub.status.busy": "2024-11-17T04:07:21.547190Z",
     "iopub.status.idle": "2024-11-17T04:07:22.226971Z",
     "shell.execute_reply": "2024-11-17T04:07:22.225737Z"
    },
    "papermill": {
     "duration": 0.692396,
     "end_time": "2024-11-17T04:07:22.229954",
     "exception": false,
     "start_time": "2024-11-17T04:07:21.537558",
     "status": "completed"
    },
    "tags": []
   },
   "outputs": [
    {
     "data": {
      "image/png": "[encoded data removed]",
      "text/plain": [
       "<Figure size 1400x800 with 1 Axes>"
      ]
     },
     "metadata": {},
     "output_type": "display_data"
    }
   ],
   "source": [
    "#Most Common Skillset For Data Scientist\n",
    "df['job_skills'].astype(str)\n",
    "df['Individual Skill'] = df['job_skills'].str.split(', ')\n",
    "df_exploded = df.explode('Individual Skill')\n",
    "\n",
    "skills_count = df_exploded['Individual Skill'].value_counts().reset_index()\n",
    "skills_count.columns = ['Skill', 'Count']\n",
    "\n",
    "plt.figure(figsize=(14, 8))\n",
    "sns.barplot(data=skills_count.head(20), x='Count', y='Skill')\n",
    "plt.title('Top 20 Most Common Job Skills for a Data Scientist', fontsize=20, fontweight='bold')\n",
    "plt.xlabel('Count', fontsize=16, fontweight='bold')\n",
    "plt.ylabel('Skills', fontsize=16, fontweight='bold')\n",
    "plt.show()"
   ]
  },
  {
   "cell_type": "markdown",
   "id": "5695c85c",
   "metadata": {
    "papermill": {
     "duration": 0.008449,
     "end_time": "2024-11-17T04:07:22.248318",
     "exception": false,
     "start_time": "2024-11-17T04:07:22.239869",
     "status": "completed"
    },
    "tags": []
   },
   "source": [
    "****As seen in the above graph, we can conclude that if a fresher or a person who wants to switch into Data Science domain, can start learning the top skills that are posted by the Employer or in the job postings, and can start acquiring these skills.****"
   ]
  },
  {
   "cell_type": "code",
   "execution_count": null,
   "id": "9394041b",
   "metadata": {
    "papermill": {
     "duration": 0.00817,
     "end_time": "2024-11-17T04:07:22.264785",
     "exception": false,
     "start_time": "2024-11-17T04:07:22.256615",
     "status": "completed"
    },
    "tags": []
   },
   "outputs": [],
   "source": []
  }
 ],
 "metadata": {
  "kaggle": {
   "accelerator": "none",
   "dataSources": [
    {
     "datasetId": 4198043,
     "sourceId": 8736229,
     "sourceType": "datasetVersion"
    }
   ],
   "dockerImageVersionId": 30786,
   "isGpuEnabled": false,
   "isInternetEnabled": true,
   "language": "python",
   "sourceType": "notebook"
  },
  "kernelspec": {
   "display_name": "Python 3",
   "language": "python",
   "name": "python3"
  },
  "language_info": {
   "codemirror_mode": {
    "name": "ipython",
    "version": 3
   },
   "file_extension": ".py",
   "mimetype": "text/x-python",
   "name": "python",
   "nbconvert_exporter": "python",
   "pygments_lexer": "ipython3",
   "version": "3.10.14"
  },
  "papermill": {
   "default_parameters": {},
   "duration": 8.82623,
   "end_time": "2024-11-17T04:07:22.995684",
   "environment_variables": {},
   "exception": null,
   "input_path": "__notebook__.ipynb",
   "output_path": "__notebook__.ipynb",
   "parameters": {},
   "start_time": "2024-11-17T04:07:14.169454",
   "version": "2.6.0"
  }
 },
 "nbformat": 4,
 "nbformat_minor": 5
}
